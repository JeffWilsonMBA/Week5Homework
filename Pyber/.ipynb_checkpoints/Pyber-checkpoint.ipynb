{
 "cells": [
  {
   "cell_type": "code",
   "execution_count": 1,
   "metadata": {
    "collapsed": true
   },
   "outputs": [],
   "source": [
    "import os\n",
    "import pandas as pd\n",
    "import numpy as np\n",
    "import matplotlib.pyplot as plt\n",
    "import seaborn"
   ]
  },
  {
   "cell_type": "code",
   "execution_count": 2,
   "metadata": {},
   "outputs": [
    {
     "data": {
      "text/html": [
       "<div>\n",
       "<style>\n",
       "    .dataframe thead tr:only-child th {\n",
       "        text-align: right;\n",
       "    }\n",
       "\n",
       "    .dataframe thead th {\n",
       "        text-align: left;\n",
       "    }\n",
       "\n",
       "    .dataframe tbody tr th {\n",
       "        vertical-align: top;\n",
       "    }\n",
       "</style>\n",
       "<table border=\"1\" class=\"dataframe\">\n",
       "  <thead>\n",
       "    <tr style=\"text-align: right;\">\n",
       "      <th></th>\n",
       "      <th>city</th>\n",
       "      <th>driver_count</th>\n",
       "      <th>type</th>\n",
       "    </tr>\n",
       "  </thead>\n",
       "  <tbody>\n",
       "    <tr>\n",
       "      <th>0</th>\n",
       "      <td>Davisberg</td>\n",
       "      <td>2</td>\n",
       "      <td>Urban</td>\n",
       "    </tr>\n",
       "    <tr>\n",
       "      <th>1</th>\n",
       "      <td>East Joshua</td>\n",
       "      <td>16</td>\n",
       "      <td>Urban</td>\n",
       "    </tr>\n",
       "    <tr>\n",
       "      <th>2</th>\n",
       "      <td>Port Jennytown</td>\n",
       "      <td>43</td>\n",
       "      <td>Urban</td>\n",
       "    </tr>\n",
       "    <tr>\n",
       "      <th>3</th>\n",
       "      <td>West Jessicamouth</td>\n",
       "      <td>24</td>\n",
       "      <td>Urban</td>\n",
       "    </tr>\n",
       "    <tr>\n",
       "      <th>4</th>\n",
       "      <td>Cartertown</td>\n",
       "      <td>72</td>\n",
       "      <td>Urban</td>\n",
       "    </tr>\n",
       "  </tbody>\n",
       "</table>\n",
       "</div>"
      ],
      "text/plain": [
       "                city  driver_count   type\n",
       "0          Davisberg             2  Urban\n",
       "1        East Joshua            16  Urban\n",
       "2     Port Jennytown            43  Urban\n",
       "3  West Jessicamouth            24  Urban\n",
       "4         Cartertown            72  Urban"
      ]
     },
     "execution_count": 2,
     "metadata": {},
     "output_type": "execute_result"
    }
   ],
   "source": [
    "# Open the citys data file\n",
    "city = os.path.join(\"generated_data\", \"city_data.csv\")\n",
    "city_df = pd.read_csv(city)\n",
    "city_df.head()"
   ]
  },
  {
   "cell_type": "code",
   "execution_count": 3,
   "metadata": {},
   "outputs": [
    {
     "data": {
      "text/html": [
       "<div>\n",
       "<style>\n",
       "    .dataframe thead tr:only-child th {\n",
       "        text-align: right;\n",
       "    }\n",
       "\n",
       "    .dataframe thead th {\n",
       "        text-align: left;\n",
       "    }\n",
       "\n",
       "    .dataframe tbody tr th {\n",
       "        vertical-align: top;\n",
       "    }\n",
       "</style>\n",
       "<table border=\"1\" class=\"dataframe\">\n",
       "  <thead>\n",
       "    <tr style=\"text-align: right;\">\n",
       "      <th></th>\n",
       "      <th>city</th>\n",
       "      <th>date</th>\n",
       "      <th>fare</th>\n",
       "      <th>ride_id</th>\n",
       "    </tr>\n",
       "  </thead>\n",
       "  <tbody>\n",
       "    <tr>\n",
       "      <th>0</th>\n",
       "      <td>Bergermouth</td>\n",
       "      <td>2018-01-20 01:01:28</td>\n",
       "      <td>43.02</td>\n",
       "      <td>683665871149</td>\n",
       "    </tr>\n",
       "    <tr>\n",
       "      <th>1</th>\n",
       "      <td>West Jessicamouth</td>\n",
       "      <td>2018-01-14 11:34:08</td>\n",
       "      <td>6.52</td>\n",
       "      <td>5409319008083</td>\n",
       "    </tr>\n",
       "    <tr>\n",
       "      <th>2</th>\n",
       "      <td>Karatown</td>\n",
       "      <td>2018-01-10 12:01:16</td>\n",
       "      <td>22.33</td>\n",
       "      <td>9240161770669</td>\n",
       "    </tr>\n",
       "    <tr>\n",
       "      <th>3</th>\n",
       "      <td>Port Ann</td>\n",
       "      <td>2018-01-14 22:27:10</td>\n",
       "      <td>40.23</td>\n",
       "      <td>6581910956754</td>\n",
       "    </tr>\n",
       "    <tr>\n",
       "      <th>4</th>\n",
       "      <td>Markchester</td>\n",
       "      <td>2018-02-15 07:23:25</td>\n",
       "      <td>4.26</td>\n",
       "      <td>8481316754252</td>\n",
       "    </tr>\n",
       "  </tbody>\n",
       "</table>\n",
       "</div>"
      ],
      "text/plain": [
       "                city                 date   fare        ride_id\n",
       "0        Bergermouth  2018-01-20 01:01:28  43.02   683665871149\n",
       "1  West Jessicamouth  2018-01-14 11:34:08   6.52  5409319008083\n",
       "2           Karatown  2018-01-10 12:01:16  22.33  9240161770669\n",
       "3           Port Ann  2018-01-14 22:27:10  40.23  6581910956754\n",
       "4        Markchester  2018-02-15 07:23:25   4.26  8481316754252"
      ]
     },
     "execution_count": 3,
     "metadata": {},
     "output_type": "execute_result"
    }
   ],
   "source": [
    "# Open the ride data file\n",
    "ride = os.path.join(\"generated_data\", \"ride_data.csv\")\n",
    "ride_df = pd.read_csv(ride)\n",
    "ride_df.head()"
   ]
  },
  {
   "cell_type": "code",
   "execution_count": 4,
   "metadata": {},
   "outputs": [
    {
     "data": {
      "text/html": [
       "<div>\n",
       "<style>\n",
       "    .dataframe thead tr:only-child th {\n",
       "        text-align: right;\n",
       "    }\n",
       "\n",
       "    .dataframe thead th {\n",
       "        text-align: left;\n",
       "    }\n",
       "\n",
       "    .dataframe tbody tr th {\n",
       "        vertical-align: top;\n",
       "    }\n",
       "</style>\n",
       "<table border=\"1\" class=\"dataframe\">\n",
       "  <thead>\n",
       "    <tr style=\"text-align: right;\">\n",
       "      <th></th>\n",
       "      <th>city</th>\n",
       "      <th>driver_count</th>\n",
       "      <th>type</th>\n",
       "      <th>fare_x</th>\n",
       "      <th>fare_y</th>\n",
       "    </tr>\n",
       "  </thead>\n",
       "  <tbody>\n",
       "    <tr>\n",
       "      <th>0</th>\n",
       "      <td>Davisberg</td>\n",
       "      <td>2</td>\n",
       "      <td>Urban</td>\n",
       "      <td>26.743043</td>\n",
       "      <td>615.09</td>\n",
       "    </tr>\n",
       "    <tr>\n",
       "      <th>1</th>\n",
       "      <td>East Joshua</td>\n",
       "      <td>16</td>\n",
       "      <td>Urban</td>\n",
       "      <td>24.764000</td>\n",
       "      <td>495.28</td>\n",
       "    </tr>\n",
       "    <tr>\n",
       "      <th>2</th>\n",
       "      <td>Port Jennytown</td>\n",
       "      <td>43</td>\n",
       "      <td>Urban</td>\n",
       "      <td>20.618696</td>\n",
       "      <td>474.23</td>\n",
       "    </tr>\n",
       "    <tr>\n",
       "      <th>3</th>\n",
       "      <td>West Jessicamouth</td>\n",
       "      <td>24</td>\n",
       "      <td>Urban</td>\n",
       "      <td>18.545238</td>\n",
       "      <td>389.45</td>\n",
       "    </tr>\n",
       "    <tr>\n",
       "      <th>4</th>\n",
       "      <td>Cartertown</td>\n",
       "      <td>72</td>\n",
       "      <td>Urban</td>\n",
       "      <td>24.591935</td>\n",
       "      <td>762.35</td>\n",
       "    </tr>\n",
       "  </tbody>\n",
       "</table>\n",
       "</div>"
      ],
      "text/plain": [
       "                city  driver_count   type     fare_x  fare_y\n",
       "0          Davisberg             2  Urban  26.743043  615.09\n",
       "1        East Joshua            16  Urban  24.764000  495.28\n",
       "2     Port Jennytown            43  Urban  20.618696  474.23\n",
       "3  West Jessicamouth            24  Urban  18.545238  389.45\n",
       "4         Cartertown            72  Urban  24.591935  762.35"
      ]
     },
     "execution_count": 4,
     "metadata": {},
     "output_type": "execute_result"
    }
   ],
   "source": [
    "# Average fares by city\n",
    "average_fare = ride_df.groupby([\"city\"])['fare'].mean().reset_index()\n",
    "total_fare = ride_df.groupby([\"city\"])['fare'].sum().reset_index()\n",
    "# Merge into city data table\n",
    "city_df = city_df.merge(average_fare, on = 'city', how = \"outer\")\n",
    "city_df = city_df.merge(total_fare, on = 'city', how = \"outer\")\n",
    "\n",
    "city_df.head()"
   ]
  },
  {
   "cell_type": "code",
   "execution_count": 5,
   "metadata": {},
   "outputs": [
    {
     "data": {
      "text/html": [
       "<div>\n",
       "<style>\n",
       "    .dataframe thead tr:only-child th {\n",
       "        text-align: right;\n",
       "    }\n",
       "\n",
       "    .dataframe thead th {\n",
       "        text-align: left;\n",
       "    }\n",
       "\n",
       "    .dataframe tbody tr th {\n",
       "        vertical-align: top;\n",
       "    }\n",
       "</style>\n",
       "<table border=\"1\" class=\"dataframe\">\n",
       "  <thead>\n",
       "    <tr style=\"text-align: right;\">\n",
       "      <th></th>\n",
       "      <th>City</th>\n",
       "      <th>Driver Count</th>\n",
       "      <th>City Type</th>\n",
       "      <th>Average Fare</th>\n",
       "      <th>Total Fares</th>\n",
       "      <th>Ride Count</th>\n",
       "    </tr>\n",
       "  </thead>\n",
       "  <tbody>\n",
       "    <tr>\n",
       "      <th>0</th>\n",
       "      <td>Davisberg</td>\n",
       "      <td>2</td>\n",
       "      <td>Urban</td>\n",
       "      <td>26.743043</td>\n",
       "      <td>615.09</td>\n",
       "      <td>23</td>\n",
       "    </tr>\n",
       "    <tr>\n",
       "      <th>1</th>\n",
       "      <td>East Joshua</td>\n",
       "      <td>16</td>\n",
       "      <td>Urban</td>\n",
       "      <td>24.764000</td>\n",
       "      <td>495.28</td>\n",
       "      <td>20</td>\n",
       "    </tr>\n",
       "    <tr>\n",
       "      <th>2</th>\n",
       "      <td>Port Jennytown</td>\n",
       "      <td>43</td>\n",
       "      <td>Urban</td>\n",
       "      <td>20.618696</td>\n",
       "      <td>474.23</td>\n",
       "      <td>23</td>\n",
       "    </tr>\n",
       "    <tr>\n",
       "      <th>3</th>\n",
       "      <td>West Jessicamouth</td>\n",
       "      <td>24</td>\n",
       "      <td>Urban</td>\n",
       "      <td>18.545238</td>\n",
       "      <td>389.45</td>\n",
       "      <td>21</td>\n",
       "    </tr>\n",
       "    <tr>\n",
       "      <th>4</th>\n",
       "      <td>Cartertown</td>\n",
       "      <td>72</td>\n",
       "      <td>Urban</td>\n",
       "      <td>24.591935</td>\n",
       "      <td>762.35</td>\n",
       "      <td>31</td>\n",
       "    </tr>\n",
       "  </tbody>\n",
       "</table>\n",
       "</div>"
      ],
      "text/plain": [
       "                City  Driver Count City Type  Average Fare  Total Fares  \\\n",
       "0          Davisberg             2     Urban     26.743043       615.09   \n",
       "1        East Joshua            16     Urban     24.764000       495.28   \n",
       "2     Port Jennytown            43     Urban     20.618696       474.23   \n",
       "3  West Jessicamouth            24     Urban     18.545238       389.45   \n",
       "4         Cartertown            72     Urban     24.591935       762.35   \n",
       "\n",
       "   Ride Count  \n",
       "0          23  \n",
       "1          20  \n",
       "2          23  \n",
       "3          21  \n",
       "4          31  "
      ]
     },
     "execution_count": 5,
     "metadata": {},
     "output_type": "execute_result"
    }
   ],
   "source": [
    "# Total rider per city\n",
    "total_rides = ride_df.groupby([\"city\"])['date'].count().reset_index()\n",
    "total_rides.rename_axis({'rider_id' : 'Rider Count'}, axis=1, inplace=True)\n",
    "\n",
    "# Merge into city data table\n",
    "city_df = city_df.merge(total_rides, on = 'city', how = \"outer\")\n",
    "city_df = city_df.rename(columns={\"date\": \"Ride Count\",\n",
    "                                 \"city\": \"City\",\n",
    "                                 \"driver_count\": \"Driver Count\",\n",
    "                                 \"type\": \"City Type\",\n",
    "                                 \"fare_x\": \"Average Fare\",\n",
    "                                 \"fare_y\": \"Total Fares\"})\n",
    "city_df.head()"
   ]
  },
  {
   "cell_type": "code",
   "execution_count": 6,
   "metadata": {
    "collapsed": true
   },
   "outputs": [],
   "source": [
    "# Set parameters for pie charts\n",
    "colors = [\"gold\", \"lightskyblue\", \"lightcoral\"]\n",
    "explode = (0.1, 0.1, 0.1)"
   ]
  },
  {
   "cell_type": "code",
   "execution_count": 7,
   "metadata": {},
   "outputs": [
    {
     "data": {
      "text/html": [
       "<div>\n",
       "<style>\n",
       "    .dataframe thead tr:only-child th {\n",
       "        text-align: right;\n",
       "    }\n",
       "\n",
       "    .dataframe thead th {\n",
       "        text-align: left;\n",
       "    }\n",
       "\n",
       "    .dataframe tbody tr th {\n",
       "        vertical-align: top;\n",
       "    }\n",
       "</style>\n",
       "<table border=\"1\" class=\"dataframe\">\n",
       "  <thead>\n",
       "    <tr style=\"text-align: right;\">\n",
       "      <th></th>\n",
       "      <th>City Type</th>\n",
       "      <th>Total Fares</th>\n",
       "    </tr>\n",
       "  </thead>\n",
       "  <tbody>\n",
       "    <tr>\n",
       "      <th>0</th>\n",
       "      <td>Rural</td>\n",
       "      <td>4452.41</td>\n",
       "    </tr>\n",
       "    <tr>\n",
       "      <th>1</th>\n",
       "      <td>Suburban</td>\n",
       "      <td>19054.47</td>\n",
       "    </tr>\n",
       "    <tr>\n",
       "      <th>2</th>\n",
       "      <td>Urban</td>\n",
       "      <td>40506.11</td>\n",
       "    </tr>\n",
       "  </tbody>\n",
       "</table>\n",
       "</div>"
      ],
      "text/plain": [
       "  City Type  Total Fares\n",
       "0     Rural      4452.41\n",
       "1  Suburban     19054.47\n",
       "2     Urban     40506.11"
      ]
     },
     "execution_count": 7,
     "metadata": {},
     "output_type": "execute_result"
    }
   ],
   "source": [
    "# Get data for % of Total Fares by City Type\n",
    "city_types = city_df.groupby([\"City Type\"])[\"Total Fares\"].sum().reset_index()\n",
    "city_types"
   ]
  },
  {
   "cell_type": "code",
   "execution_count": 8,
   "metadata": {},
   "outputs": [
    {
     "data": {
      "image/png": "[encoded data removed]",
      "text/plain": [
       "<matplotlib.figure.Figure at 0xbdccdd8>"
      ]
     },
     "metadata": {},
     "output_type": "display_data"
    }
   ],
   "source": [
    "# Create pie chart for % of Total Fares by City Type\n",
    "plt.title(\"% of Total Fares by City Type\")\n",
    "plt.pie(city_types[\"Total Fares\"], explode=explode, labels=city_types[\"City Type\"], colors=colors,\n",
    "        autopct=\"%1.1f%%\", shadow=True, startangle=120)\n",
    "plt.axis(\"equal\")\n",
    "plt.show()"
   ]
  },
  {
   "cell_type": "code",
   "execution_count": 9,
   "metadata": {},
   "outputs": [
    {
     "data": {
      "text/html": [
       "<div>\n",
       "<style>\n",
       "    .dataframe thead tr:only-child th {\n",
       "        text-align: right;\n",
       "    }\n",
       "\n",
       "    .dataframe thead th {\n",
       "        text-align: left;\n",
       "    }\n",
       "\n",
       "    .dataframe tbody tr th {\n",
       "        vertical-align: top;\n",
       "    }\n",
       "</style>\n",
       "<table border=\"1\" class=\"dataframe\">\n",
       "  <thead>\n",
       "    <tr style=\"text-align: right;\">\n",
       "      <th></th>\n",
       "      <th>City Type</th>\n",
       "      <th>Ride Count</th>\n",
       "    </tr>\n",
       "  </thead>\n",
       "  <tbody>\n",
       "    <tr>\n",
       "      <th>0</th>\n",
       "      <td>Rural</td>\n",
       "      <td>125</td>\n",
       "    </tr>\n",
       "    <tr>\n",
       "      <th>1</th>\n",
       "      <td>Suburban</td>\n",
       "      <td>625</td>\n",
       "    </tr>\n",
       "    <tr>\n",
       "      <th>2</th>\n",
       "      <td>Urban</td>\n",
       "      <td>1667</td>\n",
       "    </tr>\n",
       "  </tbody>\n",
       "</table>\n",
       "</div>"
      ],
      "text/plain": [
       "  City Type  Ride Count\n",
       "0     Rural         125\n",
       "1  Suburban         625\n",
       "2     Urban        1667"
      ]
     },
     "execution_count": 9,
     "metadata": {},
     "output_type": "execute_result"
    }
   ],
   "source": [
    "# Get data for % of Total Rides by City Type\n",
    "city_types = city_df.groupby([\"City Type\"])[\"Ride Count\"].sum().reset_index()\n",
    "city_types"
   ]
  },
  {
   "cell_type": "code",
   "execution_count": 10,
   "metadata": {},
   "outputs": [
    {
     "data": {
      "image/png": "[encoded data removed]",
      "text/plain": [
       "<matplotlib.figure.Figure at 0xbbd9630>"
      ]
     },
     "metadata": {},
     "output_type": "display_data"
    }
   ],
   "source": [
    "# Create pie chart for % of Total Rides by City Type\n",
    "plt.title(\"% of Total Rides by City Type\")\n",
    "plt.pie(city_types[\"Ride Count\"], explode=explode, labels=city_types[\"City Type\"], colors=colors,\n",
    "        autopct=\"%1.1f%%\", shadow=True, startangle=120)\n",
    "plt.axis(\"equal\")\n",
    "plt.show()"
   ]
  },
  {
   "cell_type": "code",
   "execution_count": 11,
   "metadata": {},
   "outputs": [
    {
     "data": {
      "text/html": [
       "<div>\n",
       "<style>\n",
       "    .dataframe thead tr:only-child th {\n",
       "        text-align: right;\n",
       "    }\n",
       "\n",
       "    .dataframe thead th {\n",
       "        text-align: left;\n",
       "    }\n",
       "\n",
       "    .dataframe tbody tr th {\n",
       "        vertical-align: top;\n",
       "    }\n",
       "</style>\n",
       "<table border=\"1\" class=\"dataframe\">\n",
       "  <thead>\n",
       "    <tr style=\"text-align: right;\">\n",
       "      <th></th>\n",
       "      <th>City Type</th>\n",
       "      <th>Driver Count</th>\n",
       "    </tr>\n",
       "  </thead>\n",
       "  <tbody>\n",
       "    <tr>\n",
       "      <th>0</th>\n",
       "      <td>Rural</td>\n",
       "      <td>110</td>\n",
       "    </tr>\n",
       "    <tr>\n",
       "      <th>1</th>\n",
       "      <td>Suburban</td>\n",
       "      <td>610</td>\n",
       "    </tr>\n",
       "    <tr>\n",
       "      <th>2</th>\n",
       "      <td>Urban</td>\n",
       "      <td>2151</td>\n",
       "    </tr>\n",
       "  </tbody>\n",
       "</table>\n",
       "</div>"
      ],
      "text/plain": [
       "  City Type  Driver Count\n",
       "0     Rural           110\n",
       "1  Suburban           610\n",
       "2     Urban          2151"
      ]
     },
     "execution_count": 11,
     "metadata": {},
     "output_type": "execute_result"
    }
   ],
   "source": [
    "# Get data for % of Total Drivers by City Type\n",
    "city_types = city_df.groupby([\"City Type\"])[\"Driver Count\"].sum().reset_index()\n",
    "city_types"
   ]
  },
  {
   "cell_type": "code",
   "execution_count": 12,
   "metadata": {},
   "outputs": [
    {
     "data": {
      "image/png": "[encoded data removed]",
      "text/plain": [
       "<matplotlib.figure.Figure at 0xbd3e4a8>"
      ]
     },
     "metadata": {},
     "output_type": "display_data"
    }
   ],
   "source": [
    "# Create pie chart for % of Total Drivers by City Type\n",
    "plt.title(\"% of Total Drivers by City Type\")\n",
    "plt.pie(city_types[\"Driver Count\"], explode=explode, labels=city_types[\"City Type\"], colors=colors,\n",
    "        autopct=\"%1.1f%%\", shadow=True, startangle=140)\n",
    "plt.axis(\"equal\")\n",
    "plt.show()"
   ]
  },
  {
   "cell_type": "code",
   "execution_count": 15,
   "metadata": {},
   "outputs": [
    {
     "data": {
      "image/png": "[encoded data removed]",
      "text/plain": [
       "<matplotlib.figure.Figure at 0xc44cc88>"
      ]
     },
     "metadata": {},
     "output_type": "display_data"
    }
   ],
   "source": [
    "# Bubble Chart\n",
    "# Set gray grid\n",
    "seaborn.set(style='darkgrid')\n",
    "# Set data for plot colors\n",
    "_types= ['Urban', 'Suburban', 'Rural']\n",
    "\n",
    "# Set palette - color names do not match but the actual colors are close\n",
    "pal = dict(Rural = \"#FFCC33\", Suburban = \"#76D7EA\", Urban = \"#ff6163\")\n",
    "\n",
    "\n",
    "fg = seaborn.FacetGrid(data=city_df, hue='City Type', palette=pal, hue_order=_types, aspect=1.61)\n",
    "fg.map(plt.scatter, 'Ride Count', 'Average Fare', \n",
    "       s=city_df[\"Driver Count\"]*1.3, alpha=0.9, edgecolors=\"black\", linewidth=1) # .add_legend()\n",
    "\n",
    "plt.xlabel('Total Number of Rides (Per City)')\n",
    "plt.ylabel('Average Fare ($)')\n",
    "plt.title('Pyber Ride Sharing Data')\n",
    "plt.legend()\n",
    "plt.show()"
   ]
  },
  {
   "cell_type": "code",
   "execution_count": null,
   "metadata": {
    "collapsed": true
   },
   "outputs": [],
   "source": []
  }
 ],
 "metadata": {
  "kernelspec": {
   "display_name": "Python 3",
   "language": "python",
   "name": "python3"
  },
  "language_info": {
   "codemirror_mode": {
    "name": "ipython",
    "version": 3
   },
   "file_extension": ".py",
   "mimetype": "text/x-python",
   "name": "python",
   "nbconvert_exporter": "python",
   "pygments_lexer": "ipython3",
   "version": "3.6.3"
  }
 },
 "nbformat": 4,
 "nbformat_minor": 2
}
